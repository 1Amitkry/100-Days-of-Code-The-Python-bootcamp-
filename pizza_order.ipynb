{
 "cells": [
  {
   "cell_type": "code",
   "execution_count": 23,
   "id": "70961fcb",
   "metadata": {
    "vscode": {
     "languageId": "plaintext"
    }
   },
   "outputs": [
    {
     "name": "stdout",
     "output_type": "stream",
     "text": [
      "WELCOME TO PIZZA DELIVERY ONLINE\n"
     ]
    },
    {
     "name": "stdin",
     "output_type": "stream",
     "text": [
      "enter the size of pizza : L/M/S ? L\n",
      "Do you want papperoni Y for yes and N for no Y\n",
      "Do you want extra cheese Y/N? Y\n"
     ]
    },
    {
     "name": "stdout",
     "output_type": "stream",
     "text": [
      "your total bill is $ 29\n"
     ]
    }
   ],
   "source": [
    "print (\"WELCOME TO PIZZA DELIVERY ONLINE\")\n",
    "size= input (\"enter the size of pizza : L/M/S ?\")\n",
    "papperoni = input(\"Do you want papperoni Y for yes and N for no\")\n",
    "extra_cheese = input(\"Do you want extra cheese Y/N?\")\n",
    "\n",
    "#todo how much they need to pay based on size\n",
    "bill = 0 \n",
    "if size == \"S\":\n",
    "    bill += 15\n",
    "elif size == \"M\":\n",
    "    bill += 20\n",
    "elif size == \"L\":\n",
    "    bill += 25\n",
    "else:\n",
    "    print(\"Enter a valid input\")\n",
    "\n",
    "    \n",
    "\n",
    "#todo how much they need to pay if they add papperoni\n",
    "if papperoni == \"Y\":\n",
    "    if size == \"S\":\n",
    "        bill += 2\n",
    "    else:\n",
    "        bill += 3\n",
    "\n",
    "#todo how  much they need to pay if they add extra cheese\n",
    "\n",
    "if extra_cheese == \"Y\":\n",
    "    bill += 1\n",
    "\n",
    "\n",
    "print (f\"your total bill is $ {bill}\")"
   ]
  },
  {
   "cell_type": "code",
   "execution_count": null,
   "id": "ba64005a-07eb-41da-bb2d-3701f1a29cf2",
   "metadata": {},
   "outputs": [],
   "source": []
  },
  {
   "cell_type": "code",
   "execution_count": null,
   "id": "326fae12-9008-4fe6-877b-8b5f2ecff761",
   "metadata": {},
   "outputs": [],
   "source": []
  }
 ],
 "metadata": {
  "kernelspec": {
   "display_name": "Python [conda env:base] *",
   "language": "python",
   "name": "conda-base-py"
  },
  "language_info": {
   "codemirror_mode": {
    "name": "ipython",
    "version": 3
   },
   "file_extension": ".py",
   "mimetype": "text/x-python",
   "name": "python",
   "nbconvert_exporter": "python",
   "pygments_lexer": "ipython3",
   "version": "3.12.7"
  }
 },
 "nbformat": 4,
 "nbformat_minor": 5
}
