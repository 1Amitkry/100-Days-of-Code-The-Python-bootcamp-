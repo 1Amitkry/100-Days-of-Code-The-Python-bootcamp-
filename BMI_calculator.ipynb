{
 "cells": [
  {
   "cell_type": "code",
   "execution_count": 33,
   "id": "586bd959-a66f-4272-be92-52c06d0572bb",
   "metadata": {},
   "outputs": [
    {
     "name": "stdin",
     "output_type": "stream",
     "text": [
      "Enter your weight 67\n",
      "Enter your height 172\n"
     ]
    },
    {
     "name": "stdout",
     "output_type": "stream",
     "text": [
      "Your BMI is : 22.647376960519203\n",
      "You have Normal Weight\n"
     ]
    }
   ],
   "source": [
    "weight = float(input(\"Enter your weight\"))#weight in kg\n",
    "height = float(input(\"Enter your height\"))#height in cm \n",
    "\n",
    "height_mt = height / 100  # convert cm to meters\n",
    "\n",
    "bmi = weight / (height_mt ** 2)\n",
    "print(\"Your BMI is :\", bmi)\n",
    "\n",
    "\n",
    "if bmi < 18.5:#if BMI is less than 18.5\n",
    "    print(\"You are underweight\")\n",
    "elif bmi >= 25:#if BMI is greater than 25\n",
    "    print(\"You are overweight\")\n",
    "else:#if BMI is between 18.5 and 25\n",
    "    print(\"You have Normal Weight\")"
   ]
  },
  {
   "cell_type": "code",
   "execution_count": null,
   "id": "a70ee4bb-4d60-43b9-ab55-2b1f09ea4789",
   "metadata": {},
   "outputs": [],
   "source": []
  }
 ],
 "metadata": {
  "kernelspec": {
   "display_name": "Python [conda env:base] *",
   "language": "python",
   "name": "conda-base-py"
  },
  "language_info": {
   "codemirror_mode": {
    "name": "ipython",
    "version": 3
   },
   "file_extension": ".py",
   "mimetype": "text/x-python",
   "name": "python",
   "nbconvert_exporter": "python",
   "pygments_lexer": "ipython3",
   "version": "3.12.7"
  }
 },
 "nbformat": 4,
 "nbformat_minor": 5
}
